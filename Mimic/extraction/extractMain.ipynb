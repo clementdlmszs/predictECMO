{
 "cells": [
  {
   "cell_type": "code",
   "execution_count": 2,
   "metadata": {},
   "outputs": [],
   "source": [
    "import pandas as pd\n",
    "from tqdm import tqdm\n",
    "import os"
   ]
  },
  {
   "cell_type": "code",
   "execution_count": 3,
   "metadata": {
    "editable": true,
    "slideshow": {
     "slide_type": ""
    },
    "tags": []
   },
   "outputs": [
    {
     "data": {
      "text/plain": [
       "'/home/delmaire.c/predictECMO/ecmopredict/Mimic/extraction'"
      ]
     },
     "execution_count": 3,
     "metadata": {},
     "output_type": "execute_result"
    }
   ],
   "source": [
    "os.getcwd()"
   ]
  },
  {
   "cell_type": "code",
   "execution_count": 4,
   "metadata": {
    "editable": true,
    "slideshow": {
     "slide_type": ""
    },
    "tags": []
   },
   "outputs": [
    {
     "name": "stdout",
     "output_type": "stream",
     "text": [
      "[35918080 34349568 33106432 ... 37939711 32697087 34077183]\n"
     ]
    }
   ],
   "source": [
    "dataPathIn = \"./\"\n",
    "dataPathOut = \"../dataMimic/\"\n",
    "\n",
    "filePatients = dataPathOut + \"ventiles1.csv\"\n",
    "fileChartEvents = dataPathIn + \"chartevents.csv.gz\"\n",
    "fileChartEventsFiO2 = dataPathIn + \"charteventsFiO2.csv.gz\"\n",
    "fileUrineOutputs = dataPathIn + \"urine_outputs.csv.gz\"\n",
    "fileWeights = dataPathIn + \"weights.csv\"\n",
    "fileHeights = dataPathIn + \"heights.csv\"\n",
    "fileCompliance = dataPathIn + \"peep-pplat-volume.csv.gz\"\n",
    "\n",
    "fileFiO2_2 = dataPathIn + \"FiO2_2.csv.gz\"\n",
    "fileDialyse = dataPathIn + \"dialyse.csv\"\n",
    "\n",
    "df_patients = pd.read_csv(filePatients, parse_dates=['start_vent'])\n",
    "# df_patients = pd.read_parquet(filePatients)\n",
    "liste_stay_ids = df_patients[\"stay_id\"].to_numpy()\n",
    "print(liste_stay_ids)\n",
    "liste_item_ids = [220045, 225309 ,225310, 225312, 220050, 220051, 220052, 220179, 220180, 220181, 220210, 224690, 220277, 226329, 223762, 223761]\n",
    "\n",
    "# df_cohort = pd.read_csv(fileChartEvents, compression='gzip')\n",
    "# df_urine = pd.read_csv(fileUrineOutputs, compression='gzip')\n",
    "# df_fiO2 = pd.read_csv(fileChartEventsFiO2, compression='gzip')\n",
    "# df_weights = pd.read_csv(fileWeights)\n",
    "# df_heights = pd.read_csv(fileHeights)\n",
    "df_compliance = pd.read_csv(fileCompliance, compression='gzip')\n",
    "df_fio2_2 = pd.read_csv(fileFiO2_2, compression='gzip')\n",
    "df_dialyse = pd.read_csv(fileDialyse)\n",
    "\n",
    "# df_cohort=pd.DataFrame()\n",
    "\n",
    "# chunksize = 10000000\n",
    "# for chunk in tqdm(pd.read_csv(fileChartEvents, compression='gzip', usecols=['stay_id','charttime','itemid','valuenum','valueuom'], dtype=None, parse_dates=[\"charttime\"],chunksize=chunksize)):\n",
    "#     chunk = chunk[(chunk['itemid'].isin(liste_item_ids)) & (chunk['stay_id'].isin(liste_stay_ids))]\n",
    "#     df_cohort = pd.concat([df_cohort, chunk], ignore_index=True)\n",
    "\n",
    "\n",
    "# df_cohort.to_csv(\"./chartevents.csv\")"
   ]
  },
  {
   "cell_type": "code",
   "execution_count": 5,
   "metadata": {
    "editable": true,
    "slideshow": {
     "slide_type": ""
    },
    "tags": []
   },
   "outputs": [
    {
     "name": "stderr",
     "output_type": "stream",
     "text": [
      "100%|█████████████████████████████████████████████████████████████████████████████████████████████████████████████████████████████████████████████████████████| 4657/4657 [00:19<00:00, 238.99it/s]\n"
     ]
    }
   ],
   "source": [
    "def extractGeneric(df, item_ids, stay_id, start_vent, label_str):\n",
    "    df_aux = df[(df['itemid'].isin(item_ids)) & (df['stay_id']==stay_id)]\n",
    "    df_out = pd.DataFrame()\n",
    "    df_out['time'] = (pd.to_datetime(df_aux['charttime']) - pd.to_datetime(start_vent)).dt.total_seconds().div(60).astype(int)\n",
    "    df_out[label_str] = df_aux['valuenum']\n",
    "    df_out = df_out.sort_values('time')\n",
    "    df_out.to_csv(dataPathOut+\"rawData/\"+str(stay_id)+\"/\"+label_str+\".csv\", columns = [label_str, 'time'], index=False)\n",
    "\n",
    "def extractUrine(df, stay_id, start_vent, label_str):\n",
    "    df_aux = df[df['stay_id']==stay_id]\n",
    "    df_out = pd.DataFrame()\n",
    "    df_out['time'] = (pd.to_datetime(df_aux['charttime']) - pd.to_datetime(start_vent)).dt.total_seconds().div(60).astype(int)\n",
    "    df_out[label_str] = df_aux['urineoutput']\n",
    "    df_out = df_out.sort_values('time')\n",
    "    df_out.to_csv(dataPathOut+\"rawData/\"+str(stay_id)+\"/\"+label_str+\".csv\", columns = [label_str, 'time'], index=False)\n",
    "\n",
    "def extractWeight(df, stay_id, start_vent, label_str):\n",
    "    df_aux = df[df['stay_id']==stay_id]\n",
    "    df_out = pd.DataFrame()\n",
    "    df_out['time'] = (pd.to_datetime(df_aux['starttime']) - pd.to_datetime(start_vent)).dt.total_seconds().div(60).astype(int)\n",
    "    df_out[label_str] = df_aux['weight']\n",
    "    df_out = df_out.sort_values('time')\n",
    "    df_out.to_csv(dataPathOut+\"rawData/\"+str(stay_id)+\"/\"+label_str+\".csv\", columns = [label_str, 'time'], index=False)\n",
    "\n",
    "def extractHeight(df, stay_id, start_vent, label_str):\n",
    "    df_aux = df[df['stay_id']==stay_id]\n",
    "    df_out = pd.DataFrame()\n",
    "    df_out['time'] = (pd.to_datetime(df_aux['charttime']) - pd.to_datetime(start_vent)).dt.total_seconds().div(60).astype(int)\n",
    "    df_out[label_str] = df_aux['height']\n",
    "    df_out = df_out.sort_values('time')\n",
    "    df_out.to_csv(dataPathOut+\"rawData/\"+str(stay_id)+\"/\"+label_str+\".csv\", columns = [label_str, 'time'], index=False)\n",
    "\n",
    "def extractPEP(df, stay_id, start_vent, label_str):\n",
    "    df_aux = df[df['stay_id']==stay_id]\n",
    "    df_out = pd.DataFrame()\n",
    "    df_out['time'] = (pd.to_datetime(df_aux['charttime']) - pd.to_datetime(start_vent)).dt.total_seconds().div(60).astype(int)\n",
    "    df_out[label_str] = df_aux['peep']\n",
    "    df_out = df_out.sort_values('time')\n",
    "    df_out.to_csv(dataPathOut+\"rawData/\"+str(stay_id)+\"/\"+label_str+\".csv\", columns = [label_str, 'time'], index=False)\n",
    "\n",
    "def extractPplat(df, stay_id, start_vent, label_str):\n",
    "    df_aux = df[df['stay_id']==stay_id]\n",
    "    df_out = pd.DataFrame()\n",
    "    df_out['time'] = (pd.to_datetime(df_aux['charttime']) - pd.to_datetime(start_vent)).dt.total_seconds().div(60).astype(int)\n",
    "    df_out[label_str] = df_aux['plateau_pressure']\n",
    "    df_out = df_out.sort_values('time')\n",
    "    df_out.to_csv(dataPathOut+\"rawData/\"+str(stay_id)+\"/\"+label_str+\".csv\", columns = [label_str, 'time'], index=False)\n",
    "\n",
    "def extractVolumeCourant(df, stay_id, start_vent, label_str):\n",
    "    df_aux = df[df['stay_id']==stay_id]\n",
    "    df_out = pd.DataFrame()\n",
    "    df_out['time'] = (pd.to_datetime(df_aux['charttime']) - pd.to_datetime(start_vent)).dt.total_seconds().div(60).astype(int)\n",
    "    df_out[label_str] = df_aux['tidal_volume_observed']\n",
    "    df_out = df_out.sort_values('time')\n",
    "    df_out.to_csv(dataPathOut+\"rawData/\"+str(stay_id)+\"/\"+label_str+\".csv\", columns = [label_str, 'time'], index=False)\n",
    "\n",
    "def extractFiO2_2(df, stay_id, start_vent, label_str):\n",
    "    df_aux = df[df['stay_id']==stay_id]\n",
    "    df_out = pd.DataFrame()\n",
    "    df_out['time'] = (pd.to_datetime(df_aux['charttime']) - pd.to_datetime(start_vent)).dt.total_seconds().div(60).astype(int)\n",
    "    df_out[label_str] = df_aux['fio2']\n",
    "    df_out = df_out.sort_values('time')\n",
    "    df_out.to_csv(dataPathOut+\"rawData/\"+str(stay_id)+\"/fio2_2.csv\", columns = [label_str, 'time'], index=False)\n",
    "\n",
    "def extractDialyse(df, stay_id, start_vent):\n",
    "    df_aux = df[df['stay_id']==stay_id]\n",
    "    df_out = pd.DataFrame()\n",
    "    df_out['time'] = (pd.to_datetime(df_aux['charttime']) - pd.to_datetime(start_vent)).dt.total_seconds().div(60).astype(int)\n",
    "    df_out = df_out.sort_values('time')\n",
    "    df_out.to_csv(dataPathOut+\"rawData/\"+str(stay_id)+\"/dialyse.csv\", columns = ['time'], index=False)\n",
    "\n",
    "num_patients = len(liste_stay_ids)\n",
    "for stay_id in tqdm(liste_stay_ids, total=num_patients):\n",
    "    start_vent = df_patients[\"start_vent\"].loc[df_patients[\"stay_id\"]==stay_id]\n",
    "    # extractGeneric(df_cohort, [220045], stay_id, start_vent.iloc[0], \"HR\")\n",
    "    # extractGeneric(df_cohort, [220277], stay_id, start_vent.iloc[0], \"SpO2\")\n",
    "    # extractGeneric(df_cohort, [220210,224690], stay_id, start_vent.iloc[0], \"RR\")\n",
    "    # extractGeneric(df_cohort, [220050, 225309], stay_id, start_vent.iloc[0], \"PAS_I\")\n",
    "    # extractGeneric(df_cohort, [220051, 225310], stay_id, start_vent.iloc[0], \"PAD_I\")\n",
    "    # extractGeneric(df_cohort, [220052, 225312], stay_id, start_vent.iloc[0], \"PAM_I\")\n",
    "    # extractGeneric(df_cohort, [220179], stay_id, start_vent.iloc[0], \"PAS_NI\")\n",
    "    # extractGeneric(df_cohort, [220180], stay_id, start_vent.iloc[0], \"PAD_NI\")\n",
    "    # extractGeneric(df_cohort, [220181], stay_id, start_vent.iloc[0], \"PAM_NI\")\n",
    "    # extractGeneric(df_cohort, [223762], stay_id, start_vent.iloc[0], \"Temperature_C\")\n",
    "    # extractGeneric(df_cohort, [223761], stay_id, start_vent.iloc[0], \"Temperature_F\")\n",
    "    # extractGeneric(df_fiO2, [223835], stay_id, start_vent.iloc[0], \"FiO2\")\n",
    "    # extractUrine(df_urine, stay_id, start_vent.iloc[0], \"Diurese\")\n",
    "    # extractWeight(df_weights, stay_id, start_vent.iloc[0], \"Weight\")\n",
    "    # extractHeight(df_heights, stay_id, start_vent.iloc[0], \"Height\")\n",
    "    # extractPEP(df_compliance, stay_id, start_vent.iloc[0], \"PEP\")\n",
    "    # extractPplat(df_compliance, stay_id, start_vent.iloc[0], \"Pplat\")\n",
    "    # extractVolumeCourant(df_compliance, stay_id, start_vent.iloc[0], \"VolumeCourant\")\n",
    "    # extractFiO2_2(df_fio2_2, stay_id, start_vent.iloc[0], \"fiO2\")\n",
    "    extractDialyse(df_dialyse, stay_id, start_vent.iloc[0])"
   ]
  },
  {
   "cell_type": "code",
   "execution_count": null,
   "metadata": {},
   "outputs": [],
   "source": []
  }
 ],
 "metadata": {
  "kernelspec": {
   "display_name": "Python [conda env:env0]",
   "language": "python",
   "name": "conda-env-env0-py"
  },
  "language_info": {
   "codemirror_mode": {
    "name": "ipython",
    "version": 3
   },
   "file_extension": ".py",
   "mimetype": "text/x-python",
   "name": "python",
   "nbconvert_exporter": "python",
   "pygments_lexer": "ipython3",
   "version": "3.10.14"
  }
 },
 "nbformat": 4,
 "nbformat_minor": 4
}
