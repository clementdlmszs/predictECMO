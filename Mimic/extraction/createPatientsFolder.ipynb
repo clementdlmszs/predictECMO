{
 "cells": [
  {
   "cell_type": "code",
   "execution_count": 1,
   "id": "20689ca0-752a-426a-a68a-9c647ab1cb06",
   "metadata": {},
   "outputs": [],
   "source": [
    "import pandas as pd\n",
    "import os\n",
    "\n",
    "dataPath = \"../dataMimic/\"\n",
    "\n",
    "filePatients = dataPath + \"ventiles.csv\"\n",
    "\n",
    "patients_df = pd.read_csv(filePatients)\n",
    "\n",
    "# Création d'un dossier pour chaque encounterId différent\n",
    "for stay_id in patients_df[\"stay_id\"]:\n",
    "\n",
    "    folderPath = dataPath + \"rawData/\" + str(stay_id)\n",
    "\n",
    "    if not os.path.exists(folderPath):\n",
    "        os.makedirs(folderPath)\n",
    "\n",
    "\n",
    "for stay_id in patients_df[\"stay_id\"]:\n",
    "\n",
    "    folderPath = dataPath + \"preProcessedData/\" + str(stay_id)\n",
    "\n",
    "    if not os.path.exists(folderPath):\n",
    "        os.makedirs(folderPath)\n",
    "\n",
    "\n",
    "for stay_id in patients_df[\"stay_id\"]:\n",
    "\n",
    "    folderPath = dataPath + \"finalData/\" + str(stay_id)\n",
    "\n",
    "    if not os.path.exists(folderPath):\n",
    "        os.makedirs(folderPath) "
   ]
  },
  {
   "cell_type": "code",
   "execution_count": null,
   "id": "48a26f8f-b6d4-439d-b69e-5ddc2a1442eb",
   "metadata": {},
   "outputs": [],
   "source": []
  }
 ],
 "metadata": {
  "kernelspec": {
   "display_name": "Python [conda env:env0]",
   "language": "python",
   "name": "conda-env-env0-py"
  },
  "language_info": {
   "codemirror_mode": {
    "name": "ipython",
    "version": 3
   },
   "file_extension": ".py",
   "mimetype": "text/x-python",
   "name": "python",
   "nbconvert_exporter": "python",
   "pygments_lexer": "ipython3",
   "version": "3.10.14"
  }
 },
 "nbformat": 4,
 "nbformat_minor": 5
}
